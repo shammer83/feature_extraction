{
 "cells": [
  {
   "cell_type": "code",
   "execution_count": null,
   "metadata": {
    "collapsed": true
   },
   "outputs": [],
   "source": [
    "import matplotlib.pyplot as plt\n",
    "%matplotlib inline\n",
    "\n",
    "import numpy as np\n",
    "import pandas as pd\n",
    "from tqdm import tqdm\n",
    "from scipy.stats import boxcox\n",
    "from sklearn.model_selection import train_test_split\n",
    "from sklearn.preprocessing import StandardScaler\n",
    "from sklearn.linear_model import LinearRegression, Lasso"
   ]
  },
  {
   "cell_type": "code",
   "execution_count": null,
   "metadata": {
    "collapsed": true
   },
   "outputs": [],
   "source": [
    "X = pd.read_pickle('data/features.p')\n",
    "y = pd.read_pickle('data/target.p')"
   ]
  },
  {
   "cell_type": "code",
   "execution_count": null,
   "metadata": {},
   "outputs": [],
   "source": [
    "X.columns"
   ]
  },
  {
   "cell_type": "code",
   "execution_count": null,
   "metadata": {},
   "outputs": [],
   "source": [
    "X.sample(5)"
   ]
  },
  {
   "cell_type": "code",
   "execution_count": null,
   "metadata": {},
   "outputs": [],
   "source": [
    "X.describe()"
   ]
  },
  {
   "cell_type": "code",
   "execution_count": null,
   "metadata": {
    "collapsed": true
   },
   "outputs": [],
   "source": [
    "from sklearn.model_selection import train_test_split"
   ]
  },
  {
   "cell_type": "code",
   "execution_count": null,
   "metadata": {
    "collapsed": true
   },
   "outputs": [],
   "source": [
    "X_train, X_test, y_train, y_test = train_test_split(X, y)"
   ]
  },
  {
   "cell_type": "code",
   "execution_count": null,
   "metadata": {},
   "outputs": [],
   "source": [
    "X_train_bc = pd.DataFrame()\n",
    "X_test_bc = pd.DataFrame()\n",
    "for col in X_train.columns:\n",
    "    box_cox_trans_tr, lmbda = boxcox(X_train[col]+.000001)\n",
    "    box_cox_trans_ts = boxcox(X_test[col]+.000001, lmbda)\n",
    "    X_train_bc[col] = pd.Series(box_cox_trans_tr)\n",
    "    X_test_bc[col] = pd.Series(box_cox_trans_ts)"
   ]
  },
  {
   "cell_type": "code",
   "execution_count": null,
   "metadata": {
    "collapsed": true
   },
   "outputs": [],
   "source": [
    "sc = StandardScaler()"
   ]
  },
  {
   "cell_type": "code",
   "execution_count": null,
   "metadata": {
    "collapsed": true
   },
   "outputs": [],
   "source": [
    "X_train_bc_sc  = sc.fit_transform(X_train_bc)\n",
    "X_test_bc_sc = sc.transform(X_test_bc)"
   ]
  },
  {
   "cell_type": "code",
   "execution_count": null,
   "metadata": {},
   "outputs": [],
   "source": [
    "lr = LinearRegression().fit(X_train_bc_sc, y_train)"
   ]
  },
  {
   "cell_type": "code",
   "execution_count": null,
   "metadata": {},
   "outputs": [],
   "source": [
    "print(\"Training set score: {:.2f}\".format(lr.score(X_train_bc_sc, y_train)))\n",
    "print(\"Test set score: {:.2f}\".format(lr.score(X_test_bc_sc, y_test)))"
   ]
  },
  {
   "cell_type": "code",
   "execution_count": null,
   "metadata": {
    "collapsed": true
   },
   "outputs": [],
   "source": [
    "from sklearn.linear_model import Lasso\n",
    "\n",
    "def fit_score_lasso(alpha, verbose=True):\n",
    "    \n",
    "    lasso = Lasso(alpha=alpha, max_iter=1E5).fit(X_train, y_train)\n",
    "    if verbose: print(\"Training set score: {:.4f}\".format(lasso.score(X_train, y_train)))\n",
    "    if verbose: print(\"Test set score: {:.4f}\".format(lasso.score(X_test, y_test)))\n",
    "    if verbose: print(\"Number of features used: {}\".format(np.sum(lasso.coef_ != 0)))\n",
    "    return lasso, lasso.score(X_test, y_test)"
   ]
  },
  {
   "cell_type": "code",
   "execution_count": null,
   "metadata": {
    "collapsed": true
   },
   "outputs": [],
   "source": [
    "# # this takes about 20 minutes\n",
    "# scores = list()\n",
    "# for alpha in tqdm(np.logspace(-1,4,60)):\n",
    "#     scores.append(fit_score_lasso(alpha, False))\n",
    "# plt.plot(np.logspace(-2,4,6), scores)\n",
    "# plt.xscale('log')\n",
    "# results = pd.DataFrame(np.array(scores))\n",
    "# results.columns = ['model', 'test_score']\n",
    "# results['alpha'] = results.model.apply(lambda x: x.alpha)"
   ]
  },
  {
   "cell_type": "code",
   "execution_count": null,
   "metadata": {},
   "outputs": [],
   "source": [
    "results = pd.read_pickle('data/ames_lasso_results.p')"
   ]
  },
  {
   "cell_type": "code",
   "execution_count": null,
   "metadata": {},
   "outputs": [],
   "source": [
    "results.test_score.argmax()\n",
    "peak = results.loc[37]\n",
    "peak"
   ]
  },
  {
   "cell_type": "code",
   "execution_count": null,
   "metadata": {
    "scrolled": true
   },
   "outputs": [],
   "source": [
    "plt.plot(np.logspace(-2,4,60), results.test_score)\n",
    "plt.xlabel('alpha')\n",
    "plt.ylabel('test score')\n",
    "plt.xscale('log')"
   ]
  },
  {
   "cell_type": "code",
   "execution_count": null,
   "metadata": {},
   "outputs": [],
   "source": [
    "lasso_1 = results.loc[36].model\n",
    "lasso_2 = results.loc[37].model\n",
    "lasso_3 = results.loc[38].model"
   ]
  },
  {
   "cell_type": "code",
   "execution_count": null,
   "metadata": {
    "scrolled": true
   },
   "outputs": [],
   "source": [
    "plt.plot(lasso_1.coef_, 's', label=\"Lasso alpha=1\")\n",
    "plt.plot(lasso_2.coef_, '^', label=\"Lasso alpha=0.1\")\n",
    "plt.plot(lasso_3.coef_, 'v', label=\"Lasso alpha=0.004\")\n",
    "\n",
    "plt.legend(ncol=2, loc=(0, 1.05))\n",
    "plt.ylim(-25, 25)\n",
    "plt.xlabel(\"Coefficient index\")\n",
    "plt.ylabel(\"Coefficient magnitude\")"
   ]
  },
  {
   "cell_type": "code",
   "execution_count": null,
   "metadata": {},
   "outputs": [],
   "source": [
    "best_results = results[results.test_score > 0.9]\n",
    "best_results"
   ]
  },
  {
   "cell_type": "code",
   "execution_count": null,
   "metadata": {},
   "outputs": [],
   "source": [
    "coefs = np.array([model.coef_ for model in best_results.model.values])\n",
    "np.array(coefs).shape"
   ]
  },
  {
   "cell_type": "code",
   "execution_count": null,
   "metadata": {},
   "outputs": [],
   "source": [
    "coefs = pd.DataFrame(coefs)\n",
    "coefs.index = ['Lasso({:0.2f})'.format(alpha) for alpha in best_results.alpha.values]\n",
    "coefs.columns = X.columns"
   ]
  },
  {
   "cell_type": "code",
   "execution_count": null,
   "metadata": {},
   "outputs": [],
   "source": [
    "coefs.describe()"
   ]
  },
  {
   "cell_type": "code",
   "execution_count": null,
   "metadata": {},
   "outputs": [],
   "source": [
    "zeros = coefs.T[(coefs.max() == 0) & (coefs.min() == 0)]\n",
    "zeros.index.values"
   ]
  },
  {
   "cell_type": "code",
   "execution_count": null,
   "metadata": {},
   "outputs": [],
   "source": [
    "X_red = X.copy()\n",
    "for col in zeros.index.values:\n",
    "    X_red.drop(col, axis=1, inplace=True)\n",
    "X_red.shape    \n"
   ]
  },
  {
   "cell_type": "code",
   "execution_count": null,
   "metadata": {
    "collapsed": true
   },
   "outputs": [],
   "source": []
  }
 ],
 "metadata": {
  "kernelspec": {
   "display_name": "Python 3",
   "language": "python",
   "name": "python3"
  },
  "language_info": {
   "codemirror_mode": {
    "name": "ipython",
    "version": 3
   },
   "file_extension": ".py",
   "mimetype": "text/x-python",
   "name": "python",
   "nbconvert_exporter": "python",
   "pygments_lexer": "ipython3",
   "version": "3.6.2"
  }
 },
 "nbformat": 4,
 "nbformat_minor": 2
}
