{
 "cells": [
  {
   "cell_type": "code",
   "execution_count": 1,
   "metadata": {},
   "outputs": [
    {
     "name": "stdout",
     "output_type": "stream",
     "text": [
      "Fetching package metadata .............\n",
      "Solving package specifications: .\n",
      "\n",
      "Package plan for installation in environment /opt/conda:\n",
      "\n",
      "The following NEW packages will be INSTALLED:\n",
      "\n",
      "    tqdm: 4.19.4-py_0 conda-forge\n",
      "\n",
      "tqdm-4.19.4-py 100% |################################| Time: 0:00:00 183.06 kB/s\n"
     ]
    }
   ],
   "source": [
    "!conda install --yes tqdm"
   ]
  },
  {
   "cell_type": "code",
   "execution_count": 2,
   "metadata": {
    "collapsed": true
   },
   "outputs": [],
   "source": [
    "import matplotlib.pyplot as plt\n",
    "%matplotlib inline\n",
    "\n",
    "import numpy as np\n",
    "import pandas as pd\n",
    "from tqdm import tqdm\n",
    "from scipy.stats import boxcox\n",
    "from sklearn.model_selection import train_test_split\n",
    "from sklearn.preprocessing import StandardScaler\n",
    "from sklearn.linear_model import LinearRegression, Lasso"
   ]
  },
  {
   "cell_type": "code",
   "execution_count": 4,
   "metadata": {},
   "outputs": [],
   "source": [
    "X = pd.read_pickle('../data/features.p')\n",
    "y = pd.read_pickle('../data/target.p')"
   ]
  },
  {
   "cell_type": "code",
   "execution_count": 5,
   "metadata": {},
   "outputs": [
    {
     "data": {
      "text/plain": [
       "Index(['bedroomabvgr_0', 'bedroomabvgr_1', 'bedroomabvgr_2', 'bedroomabvgr_3',\n",
       "       'bedroomabvgr_4', 'bedroomabvgr_5', 'bedroomabvgr_6', 'bldgtype_1Fam',\n",
       "       'bldgtype_2fmCon', 'bldgtype_Duplex',\n",
       "       ...\n",
       "       'masvnrarea', 'miscval', 'openporchsf', 'screenporch', 'secondflrsf',\n",
       "       'threessnporch', 'totalbsmtsf', 'wooddecksf', 'yearbuilt',\n",
       "       'yearremodadd'],\n",
       "      dtype='object', length=354)"
      ]
     },
     "execution_count": 5,
     "metadata": {},
     "output_type": "execute_result"
    }
   ],
   "source": [
    "X.columns"
   ]
  },
  {
   "cell_type": "code",
   "execution_count": 6,
   "metadata": {},
   "outputs": [
    {
     "data": {
      "text/html": [
       "<div>\n",
       "<table border=\"1\" class=\"dataframe\">\n",
       "  <thead>\n",
       "    <tr style=\"text-align: right;\">\n",
       "      <th></th>\n",
       "      <th>bedroomabvgr_0</th>\n",
       "      <th>bedroomabvgr_1</th>\n",
       "      <th>bedroomabvgr_2</th>\n",
       "      <th>bedroomabvgr_3</th>\n",
       "      <th>bedroomabvgr_4</th>\n",
       "      <th>bedroomabvgr_5</th>\n",
       "      <th>bedroomabvgr_6</th>\n",
       "      <th>bldgtype_1Fam</th>\n",
       "      <th>bldgtype_2fmCon</th>\n",
       "      <th>bldgtype_Duplex</th>\n",
       "      <th>...</th>\n",
       "      <th>masvnrarea</th>\n",
       "      <th>miscval</th>\n",
       "      <th>openporchsf</th>\n",
       "      <th>screenporch</th>\n",
       "      <th>secondflrsf</th>\n",
       "      <th>threessnporch</th>\n",
       "      <th>totalbsmtsf</th>\n",
       "      <th>wooddecksf</th>\n",
       "      <th>yearbuilt</th>\n",
       "      <th>yearremodadd</th>\n",
       "    </tr>\n",
       "    <tr>\n",
       "      <th>id</th>\n",
       "      <th></th>\n",
       "      <th></th>\n",
       "      <th></th>\n",
       "      <th></th>\n",
       "      <th></th>\n",
       "      <th></th>\n",
       "      <th></th>\n",
       "      <th></th>\n",
       "      <th></th>\n",
       "      <th></th>\n",
       "      <th></th>\n",
       "      <th></th>\n",
       "      <th></th>\n",
       "      <th></th>\n",
       "      <th></th>\n",
       "      <th></th>\n",
       "      <th></th>\n",
       "      <th></th>\n",
       "      <th></th>\n",
       "      <th></th>\n",
       "      <th></th>\n",
       "    </tr>\n",
       "  </thead>\n",
       "  <tbody>\n",
       "    <tr>\n",
       "      <th>1400</th>\n",
       "      <td>0</td>\n",
       "      <td>0</td>\n",
       "      <td>0</td>\n",
       "      <td>1</td>\n",
       "      <td>0</td>\n",
       "      <td>0</td>\n",
       "      <td>0</td>\n",
       "      <td>1</td>\n",
       "      <td>0</td>\n",
       "      <td>0</td>\n",
       "      <td>...</td>\n",
       "      <td>0.0</td>\n",
       "      <td>0.0</td>\n",
       "      <td>16.0</td>\n",
       "      <td>0.0</td>\n",
       "      <td>448.0</td>\n",
       "      <td>0.0</td>\n",
       "      <td>976.0</td>\n",
       "      <td>147.0</td>\n",
       "      <td>1925.0</td>\n",
       "      <td>1990.0</td>\n",
       "    </tr>\n",
       "    <tr>\n",
       "      <th>1011</th>\n",
       "      <td>0</td>\n",
       "      <td>0</td>\n",
       "      <td>0</td>\n",
       "      <td>0</td>\n",
       "      <td>1</td>\n",
       "      <td>0</td>\n",
       "      <td>0</td>\n",
       "      <td>1</td>\n",
       "      <td>0</td>\n",
       "      <td>0</td>\n",
       "      <td>...</td>\n",
       "      <td>0.0</td>\n",
       "      <td>0.0</td>\n",
       "      <td>0.0</td>\n",
       "      <td>0.0</td>\n",
       "      <td>551.0</td>\n",
       "      <td>0.0</td>\n",
       "      <td>720.0</td>\n",
       "      <td>0.0</td>\n",
       "      <td>1948.0</td>\n",
       "      <td>1950.0</td>\n",
       "    </tr>\n",
       "    <tr>\n",
       "      <th>460</th>\n",
       "      <td>0</td>\n",
       "      <td>0</td>\n",
       "      <td>0</td>\n",
       "      <td>1</td>\n",
       "      <td>0</td>\n",
       "      <td>0</td>\n",
       "      <td>0</td>\n",
       "      <td>1</td>\n",
       "      <td>0</td>\n",
       "      <td>0</td>\n",
       "      <td>...</td>\n",
       "      <td>161.0</td>\n",
       "      <td>0.0</td>\n",
       "      <td>0.0</td>\n",
       "      <td>0.0</td>\n",
       "      <td>224.0</td>\n",
       "      <td>0.0</td>\n",
       "      <td>709.0</td>\n",
       "      <td>0.0</td>\n",
       "      <td>1950.0</td>\n",
       "      <td>1950.0</td>\n",
       "    </tr>\n",
       "    <tr>\n",
       "      <th>1423</th>\n",
       "      <td>0</td>\n",
       "      <td>1</td>\n",
       "      <td>0</td>\n",
       "      <td>0</td>\n",
       "      <td>0</td>\n",
       "      <td>0</td>\n",
       "      <td>0</td>\n",
       "      <td>0</td>\n",
       "      <td>0</td>\n",
       "      <td>0</td>\n",
       "      <td>...</td>\n",
       "      <td>170.0</td>\n",
       "      <td>0.0</td>\n",
       "      <td>0.0</td>\n",
       "      <td>0.0</td>\n",
       "      <td>0.0</td>\n",
       "      <td>0.0</td>\n",
       "      <td>848.0</td>\n",
       "      <td>140.0</td>\n",
       "      <td>2003.0</td>\n",
       "      <td>2003.0</td>\n",
       "    </tr>\n",
       "    <tr>\n",
       "      <th>98</th>\n",
       "      <td>0</td>\n",
       "      <td>0</td>\n",
       "      <td>0</td>\n",
       "      <td>1</td>\n",
       "      <td>0</td>\n",
       "      <td>0</td>\n",
       "      <td>0</td>\n",
       "      <td>1</td>\n",
       "      <td>0</td>\n",
       "      <td>0</td>\n",
       "      <td>...</td>\n",
       "      <td>48.0</td>\n",
       "      <td>0.0</td>\n",
       "      <td>0.0</td>\n",
       "      <td>0.0</td>\n",
       "      <td>0.0</td>\n",
       "      <td>0.0</td>\n",
       "      <td>960.0</td>\n",
       "      <td>120.0</td>\n",
       "      <td>1965.0</td>\n",
       "      <td>1965.0</td>\n",
       "    </tr>\n",
       "  </tbody>\n",
       "</table>\n",
       "<p>5 rows × 354 columns</p>\n",
       "</div>"
      ],
      "text/plain": [
       "      bedroomabvgr_0  bedroomabvgr_1  bedroomabvgr_2  bedroomabvgr_3  \\\n",
       "id                                                                     \n",
       "1400               0               0               0               1   \n",
       "1011               0               0               0               0   \n",
       "460                0               0               0               1   \n",
       "1423               0               1               0               0   \n",
       "98                 0               0               0               1   \n",
       "\n",
       "      bedroomabvgr_4  bedroomabvgr_5  bedroomabvgr_6  bldgtype_1Fam  \\\n",
       "id                                                                    \n",
       "1400               0               0               0              1   \n",
       "1011               1               0               0              1   \n",
       "460                0               0               0              1   \n",
       "1423               0               0               0              0   \n",
       "98                 0               0               0              1   \n",
       "\n",
       "      bldgtype_2fmCon  bldgtype_Duplex      ...       masvnrarea  miscval  \\\n",
       "id                                          ...                             \n",
       "1400                0                0      ...              0.0      0.0   \n",
       "1011                0                0      ...              0.0      0.0   \n",
       "460                 0                0      ...            161.0      0.0   \n",
       "1423                0                0      ...            170.0      0.0   \n",
       "98                  0                0      ...             48.0      0.0   \n",
       "\n",
       "      openporchsf  screenporch  secondflrsf  threessnporch  totalbsmtsf  \\\n",
       "id                                                                        \n",
       "1400         16.0          0.0        448.0            0.0        976.0   \n",
       "1011          0.0          0.0        551.0            0.0        720.0   \n",
       "460           0.0          0.0        224.0            0.0        709.0   \n",
       "1423          0.0          0.0          0.0            0.0        848.0   \n",
       "98            0.0          0.0          0.0            0.0        960.0   \n",
       "\n",
       "      wooddecksf  yearbuilt  yearremodadd  \n",
       "id                                         \n",
       "1400       147.0     1925.0        1990.0  \n",
       "1011         0.0     1948.0        1950.0  \n",
       "460          0.0     1950.0        1950.0  \n",
       "1423       140.0     2003.0        2003.0  \n",
       "98         120.0     1965.0        1965.0  \n",
       "\n",
       "[5 rows x 354 columns]"
      ]
     },
     "execution_count": 6,
     "metadata": {},
     "output_type": "execute_result"
    }
   ],
   "source": [
    "X.sample(5)"
   ]
  },
  {
   "cell_type": "code",
   "execution_count": 7,
   "metadata": {},
   "outputs": [
    {
     "data": {
      "text/html": [
       "<div>\n",
       "<table border=\"1\" class=\"dataframe\">\n",
       "  <thead>\n",
       "    <tr style=\"text-align: right;\">\n",
       "      <th></th>\n",
       "      <th>bedroomabvgr_0</th>\n",
       "      <th>bedroomabvgr_1</th>\n",
       "      <th>bedroomabvgr_2</th>\n",
       "      <th>bedroomabvgr_3</th>\n",
       "      <th>bedroomabvgr_4</th>\n",
       "      <th>bedroomabvgr_5</th>\n",
       "      <th>bedroomabvgr_6</th>\n",
       "      <th>bldgtype_1Fam</th>\n",
       "      <th>bldgtype_2fmCon</th>\n",
       "      <th>bldgtype_Duplex</th>\n",
       "      <th>...</th>\n",
       "      <th>masvnrarea</th>\n",
       "      <th>miscval</th>\n",
       "      <th>openporchsf</th>\n",
       "      <th>screenporch</th>\n",
       "      <th>secondflrsf</th>\n",
       "      <th>threessnporch</th>\n",
       "      <th>totalbsmtsf</th>\n",
       "      <th>wooddecksf</th>\n",
       "      <th>yearbuilt</th>\n",
       "      <th>yearremodadd</th>\n",
       "    </tr>\n",
       "  </thead>\n",
       "  <tbody>\n",
       "    <tr>\n",
       "      <th>count</th>\n",
       "      <td>1095.000000</td>\n",
       "      <td>1095.000000</td>\n",
       "      <td>1095.000000</td>\n",
       "      <td>1095.000000</td>\n",
       "      <td>1095.000000</td>\n",
       "      <td>1095.000000</td>\n",
       "      <td>1095.000000</td>\n",
       "      <td>1095.000000</td>\n",
       "      <td>1095.000000</td>\n",
       "      <td>1095.00000</td>\n",
       "      <td>...</td>\n",
       "      <td>1095.000000</td>\n",
       "      <td>1095.000000</td>\n",
       "      <td>1095.000000</td>\n",
       "      <td>1095.000000</td>\n",
       "      <td>1095.000000</td>\n",
       "      <td>1095.000000</td>\n",
       "      <td>1095.000000</td>\n",
       "      <td>1095.000000</td>\n",
       "      <td>1095.000000</td>\n",
       "      <td>1095.000000</td>\n",
       "    </tr>\n",
       "    <tr>\n",
       "      <th>mean</th>\n",
       "      <td>0.004566</td>\n",
       "      <td>0.033790</td>\n",
       "      <td>0.242009</td>\n",
       "      <td>0.557078</td>\n",
       "      <td>0.144292</td>\n",
       "      <td>0.013699</td>\n",
       "      <td>0.004566</td>\n",
       "      <td>0.838356</td>\n",
       "      <td>0.021005</td>\n",
       "      <td>0.03653</td>\n",
       "      <td>...</td>\n",
       "      <td>97.907254</td>\n",
       "      <td>32.816438</td>\n",
       "      <td>48.885845</td>\n",
       "      <td>14.038356</td>\n",
       "      <td>345.889498</td>\n",
       "      <td>3.966210</td>\n",
       "      <td>1062.935160</td>\n",
       "      <td>98.368950</td>\n",
       "      <td>1971.896804</td>\n",
       "      <td>1985.493151</td>\n",
       "    </tr>\n",
       "    <tr>\n",
       "      <th>std</th>\n",
       "      <td>0.067450</td>\n",
       "      <td>0.180771</td>\n",
       "      <td>0.428495</td>\n",
       "      <td>0.496958</td>\n",
       "      <td>0.351546</td>\n",
       "      <td>0.116290</td>\n",
       "      <td>0.067450</td>\n",
       "      <td>0.368292</td>\n",
       "      <td>0.143465</td>\n",
       "      <td>0.18769</td>\n",
       "      <td>...</td>\n",
       "      <td>164.611386</td>\n",
       "      <td>309.277465</td>\n",
       "      <td>65.875157</td>\n",
       "      <td>53.138641</td>\n",
       "      <td>437.972021</td>\n",
       "      <td>31.734066</td>\n",
       "      <td>435.359802</td>\n",
       "      <td>128.420637</td>\n",
       "      <td>30.179284</td>\n",
       "      <td>20.404764</td>\n",
       "    </tr>\n",
       "    <tr>\n",
       "      <th>min</th>\n",
       "      <td>0.000000</td>\n",
       "      <td>0.000000</td>\n",
       "      <td>0.000000</td>\n",
       "      <td>0.000000</td>\n",
       "      <td>0.000000</td>\n",
       "      <td>0.000000</td>\n",
       "      <td>0.000000</td>\n",
       "      <td>0.000000</td>\n",
       "      <td>0.000000</td>\n",
       "      <td>0.00000</td>\n",
       "      <td>...</td>\n",
       "      <td>0.000000</td>\n",
       "      <td>0.000000</td>\n",
       "      <td>0.000000</td>\n",
       "      <td>0.000000</td>\n",
       "      <td>0.000000</td>\n",
       "      <td>0.000000</td>\n",
       "      <td>0.000000</td>\n",
       "      <td>0.000000</td>\n",
       "      <td>1872.000000</td>\n",
       "      <td>1950.000000</td>\n",
       "    </tr>\n",
       "    <tr>\n",
       "      <th>25%</th>\n",
       "      <td>0.000000</td>\n",
       "      <td>0.000000</td>\n",
       "      <td>0.000000</td>\n",
       "      <td>0.000000</td>\n",
       "      <td>0.000000</td>\n",
       "      <td>0.000000</td>\n",
       "      <td>0.000000</td>\n",
       "      <td>1.000000</td>\n",
       "      <td>0.000000</td>\n",
       "      <td>0.00000</td>\n",
       "      <td>...</td>\n",
       "      <td>0.000000</td>\n",
       "      <td>0.000000</td>\n",
       "      <td>0.000000</td>\n",
       "      <td>0.000000</td>\n",
       "      <td>0.000000</td>\n",
       "      <td>0.000000</td>\n",
       "      <td>804.000000</td>\n",
       "      <td>0.000000</td>\n",
       "      <td>1954.000000</td>\n",
       "      <td>1968.000000</td>\n",
       "    </tr>\n",
       "    <tr>\n",
       "      <th>50%</th>\n",
       "      <td>0.000000</td>\n",
       "      <td>0.000000</td>\n",
       "      <td>0.000000</td>\n",
       "      <td>1.000000</td>\n",
       "      <td>0.000000</td>\n",
       "      <td>0.000000</td>\n",
       "      <td>0.000000</td>\n",
       "      <td>1.000000</td>\n",
       "      <td>0.000000</td>\n",
       "      <td>0.00000</td>\n",
       "      <td>...</td>\n",
       "      <td>0.000000</td>\n",
       "      <td>0.000000</td>\n",
       "      <td>28.000000</td>\n",
       "      <td>0.000000</td>\n",
       "      <td>0.000000</td>\n",
       "      <td>0.000000</td>\n",
       "      <td>1008.000000</td>\n",
       "      <td>0.000000</td>\n",
       "      <td>1973.000000</td>\n",
       "      <td>1994.000000</td>\n",
       "    </tr>\n",
       "    <tr>\n",
       "      <th>75%</th>\n",
       "      <td>0.000000</td>\n",
       "      <td>0.000000</td>\n",
       "      <td>0.000000</td>\n",
       "      <td>1.000000</td>\n",
       "      <td>0.000000</td>\n",
       "      <td>0.000000</td>\n",
       "      <td>0.000000</td>\n",
       "      <td>1.000000</td>\n",
       "      <td>0.000000</td>\n",
       "      <td>0.00000</td>\n",
       "      <td>...</td>\n",
       "      <td>161.500000</td>\n",
       "      <td>0.000000</td>\n",
       "      <td>72.000000</td>\n",
       "      <td>0.000000</td>\n",
       "      <td>728.500000</td>\n",
       "      <td>0.000000</td>\n",
       "      <td>1279.500000</td>\n",
       "      <td>169.000000</td>\n",
       "      <td>2001.000000</td>\n",
       "      <td>2004.000000</td>\n",
       "    </tr>\n",
       "    <tr>\n",
       "      <th>max</th>\n",
       "      <td>1.000000</td>\n",
       "      <td>1.000000</td>\n",
       "      <td>1.000000</td>\n",
       "      <td>1.000000</td>\n",
       "      <td>1.000000</td>\n",
       "      <td>1.000000</td>\n",
       "      <td>1.000000</td>\n",
       "      <td>1.000000</td>\n",
       "      <td>1.000000</td>\n",
       "      <td>1.00000</td>\n",
       "      <td>...</td>\n",
       "      <td>1047.000000</td>\n",
       "      <td>8300.000000</td>\n",
       "      <td>502.000000</td>\n",
       "      <td>410.000000</td>\n",
       "      <td>2065.000000</td>\n",
       "      <td>508.000000</td>\n",
       "      <td>6110.000000</td>\n",
       "      <td>857.000000</td>\n",
       "      <td>2010.000000</td>\n",
       "      <td>2010.000000</td>\n",
       "    </tr>\n",
       "  </tbody>\n",
       "</table>\n",
       "<p>8 rows × 354 columns</p>\n",
       "</div>"
      ],
      "text/plain": [
       "       bedroomabvgr_0  bedroomabvgr_1  bedroomabvgr_2  bedroomabvgr_3  \\\n",
       "count     1095.000000     1095.000000     1095.000000     1095.000000   \n",
       "mean         0.004566        0.033790        0.242009        0.557078   \n",
       "std          0.067450        0.180771        0.428495        0.496958   \n",
       "min          0.000000        0.000000        0.000000        0.000000   \n",
       "25%          0.000000        0.000000        0.000000        0.000000   \n",
       "50%          0.000000        0.000000        0.000000        1.000000   \n",
       "75%          0.000000        0.000000        0.000000        1.000000   \n",
       "max          1.000000        1.000000        1.000000        1.000000   \n",
       "\n",
       "       bedroomabvgr_4  bedroomabvgr_5  bedroomabvgr_6  bldgtype_1Fam  \\\n",
       "count     1095.000000     1095.000000     1095.000000    1095.000000   \n",
       "mean         0.144292        0.013699        0.004566       0.838356   \n",
       "std          0.351546        0.116290        0.067450       0.368292   \n",
       "min          0.000000        0.000000        0.000000       0.000000   \n",
       "25%          0.000000        0.000000        0.000000       1.000000   \n",
       "50%          0.000000        0.000000        0.000000       1.000000   \n",
       "75%          0.000000        0.000000        0.000000       1.000000   \n",
       "max          1.000000        1.000000        1.000000       1.000000   \n",
       "\n",
       "       bldgtype_2fmCon  bldgtype_Duplex      ...        masvnrarea  \\\n",
       "count      1095.000000       1095.00000      ...       1095.000000   \n",
       "mean          0.021005          0.03653      ...         97.907254   \n",
       "std           0.143465          0.18769      ...        164.611386   \n",
       "min           0.000000          0.00000      ...          0.000000   \n",
       "25%           0.000000          0.00000      ...          0.000000   \n",
       "50%           0.000000          0.00000      ...          0.000000   \n",
       "75%           0.000000          0.00000      ...        161.500000   \n",
       "max           1.000000          1.00000      ...       1047.000000   \n",
       "\n",
       "           miscval  openporchsf  screenporch  secondflrsf  threessnporch  \\\n",
       "count  1095.000000  1095.000000  1095.000000  1095.000000    1095.000000   \n",
       "mean     32.816438    48.885845    14.038356   345.889498       3.966210   \n",
       "std     309.277465    65.875157    53.138641   437.972021      31.734066   \n",
       "min       0.000000     0.000000     0.000000     0.000000       0.000000   \n",
       "25%       0.000000     0.000000     0.000000     0.000000       0.000000   \n",
       "50%       0.000000    28.000000     0.000000     0.000000       0.000000   \n",
       "75%       0.000000    72.000000     0.000000   728.500000       0.000000   \n",
       "max    8300.000000   502.000000   410.000000  2065.000000     508.000000   \n",
       "\n",
       "       totalbsmtsf   wooddecksf    yearbuilt  yearremodadd  \n",
       "count  1095.000000  1095.000000  1095.000000   1095.000000  \n",
       "mean   1062.935160    98.368950  1971.896804   1985.493151  \n",
       "std     435.359802   128.420637    30.179284     20.404764  \n",
       "min       0.000000     0.000000  1872.000000   1950.000000  \n",
       "25%     804.000000     0.000000  1954.000000   1968.000000  \n",
       "50%    1008.000000     0.000000  1973.000000   1994.000000  \n",
       "75%    1279.500000   169.000000  2001.000000   2004.000000  \n",
       "max    6110.000000   857.000000  2010.000000   2010.000000  \n",
       "\n",
       "[8 rows x 354 columns]"
      ]
     },
     "execution_count": 7,
     "metadata": {},
     "output_type": "execute_result"
    }
   ],
   "source": [
    "X.describe()"
   ]
  },
  {
   "cell_type": "code",
   "execution_count": 8,
   "metadata": {
    "collapsed": true
   },
   "outputs": [],
   "source": [
    "from sklearn.model_selection import train_test_split"
   ]
  },
  {
   "cell_type": "code",
   "execution_count": 9,
   "metadata": {
    "collapsed": true
   },
   "outputs": [],
   "source": [
    "X_train, X_test, y_train, y_test = train_test_split(X, y)"
   ]
  },
  {
   "cell_type": "code",
   "execution_count": 10,
   "metadata": {},
   "outputs": [
    {
     "name": "stderr",
     "output_type": "stream",
     "text": [
      "/opt/conda/lib/python3.6/site-packages/scipy/stats/morestats.py:901: RuntimeWarning: overflow encountered in square\n",
      "  llf -= N / 2.0 * np.log(np.sum((y - y_mean)**2. / N, axis=0))\n",
      "/opt/conda/lib/python3.6/site-packages/scipy/stats/morestats.py:901: RuntimeWarning: divide by zero encountered in log\n",
      "  llf -= N / 2.0 * np.log(np.sum((y - y_mean)**2. / N, axis=0))\n",
      "/opt/conda/lib/python3.6/site-packages/scipy/optimize/optimize.py:1849: RuntimeWarning: invalid value encountered in double_scalars\n",
      "  tmp1 = (x - w) * (fx - fv)\n",
      "/opt/conda/lib/python3.6/site-packages/scipy/optimize/optimize.py:1850: RuntimeWarning: invalid value encountered in double_scalars\n",
      "  tmp2 = (x - v) * (fx - fw)\n",
      "/opt/conda/lib/python3.6/site-packages/scipy/optimize/optimize.py:1855: RuntimeWarning: invalid value encountered in absolute\n",
      "  tmp2 = numpy.abs(tmp2)\n"
     ]
    }
   ],
   "source": [
    "X_train_bc = pd.DataFrame()\n",
    "X_test_bc = pd.DataFrame()\n",
    "for col in X_train.columns:\n",
    "    box_cox_trans_tr, lmbda = boxcox(X_train[col]+.000001)\n",
    "    box_cox_trans_ts = boxcox(X_test[col]+.000001, lmbda)\n",
    "    X_train_bc[col] = pd.Series(box_cox_trans_tr)\n",
    "    X_test_bc[col] = pd.Series(box_cox_trans_ts)"
   ]
  },
  {
   "cell_type": "code",
   "execution_count": 11,
   "metadata": {
    "collapsed": true
   },
   "outputs": [],
   "source": [
    "sc = StandardScaler()"
   ]
  },
  {
   "cell_type": "code",
   "execution_count": 12,
   "metadata": {
    "collapsed": true
   },
   "outputs": [],
   "source": [
    "X_train_bc_sc  = sc.fit_transform(X_train_bc)\n",
    "X_test_bc_sc = sc.transform(X_test_bc)"
   ]
  },
  {
   "cell_type": "code",
   "execution_count": 13,
   "metadata": {
    "collapsed": true
   },
   "outputs": [],
   "source": [
    "lr = LinearRegression().fit(X_train_bc_sc, y_train)"
   ]
  },
  {
   "cell_type": "code",
   "execution_count": 14,
   "metadata": {},
   "outputs": [
    {
     "name": "stdout",
     "output_type": "stream",
     "text": [
      "Training set score: 0.92\n",
      "Test set score: -923152675425850993711203373209110972135218513606344704.00\n"
     ]
    }
   ],
   "source": [
    "print(\"Training set score: {:.2f}\".format(lr.score(X_train_bc_sc, y_train)))\n",
    "print(\"Test set score: {:.2f}\".format(lr.score(X_test_bc_sc, y_test)))"
   ]
  },
  {
   "cell_type": "code",
   "execution_count": 23,
   "metadata": {
    "collapsed": true
   },
   "outputs": [],
   "source": [
    "from sklearn.linear_model import Lasso\n",
    "\n",
    "def fit_score_lasso(alpha, verbose=True):\n",
    "    \n",
    "    lasso = Lasso(alpha=alpha, max_iter=1E5).fit(X_train, y_train)\n",
    "    if verbose: print(\"Training set score: {:.4f}\".format(lasso.score(X_train, y_train)))\n",
    "    if verbose: print(\"Test set score: {:.4f}\".format(lasso.score(X_test, y_test)))\n",
    "    if verbose: print(\"Number of features used: {}\".format(np.sum(lasso.coef_ != 0)))\n",
    "    return lasso, lasso.score(X_test, y_test)"
   ]
  },
  {
   "cell_type": "code",
   "execution_count": 16,
   "metadata": {
    "collapsed": true
   },
   "outputs": [],
   "source": [
    "# # this takes about 20 minutes\n",
    "# scores = list()\n",
    "# for alpha in tqdm(np.logspace(-1,4,60)):\n",
    "#     scores.append(fit_score_lasso(alpha, False))\n",
    "# plt.plot(np.logspace(-2,4,6), scores)\n",
    "# plt.xscale('log')\n",
    "# results = pd.DataFrame(np.array(scores))\n",
    "# results.columns = ['model', 'test_score']\n",
    "# results['alpha'] = results.model.apply(lambda x: x.alpha)"
   ]
  },
  {
   "cell_type": "code",
   "execution_count": 24,
   "metadata": {},
   "outputs": [],
   "source": [
    "results = pd.read_pickle('../data/ames_lasso_results.p')"
   ]
  },
  {
   "cell_type": "code",
   "execution_count": 19,
   "metadata": {},
   "outputs": [
    {
     "data": {
      "text/plain": [
       "model         Lasso(alpha=136.64483492953244, copy_X=True, f...\n",
       "test_score                                             0.911137\n",
       "alpha                                                   136.645\n",
       "Name: 37, dtype: object"
      ]
     },
     "execution_count": 19,
     "metadata": {},
     "output_type": "execute_result"
    }
   ],
   "source": [
    "results.test_score.argmax()\n",
    "peak = results.loc[37]\n",
    "peak"
   ]
  },
  {
   "cell_type": "code",
   "execution_count": 20,
   "metadata": {
    "scrolled": true
   },
   "outputs": [
    {
     "data": {
      "image/png": "[encoded data removed]",
      "text/plain": [
       "<matplotlib.figure.Figure at 0x7f7b659df5f8>"
      ]
     },
     "metadata": {},
     "output_type": "display_data"
    }
   ],
   "source": [
    "plt.plot(np.logspace(-2,4,60), results.test_score)\n",
    "plt.xlabel('alpha')\n",
    "plt.ylabel('test score')\n",
    "plt.xscale('log')"
   ]
  },
  {
   "cell_type": "code",
   "execution_count": 25,
   "metadata": {
    "collapsed": true
   },
   "outputs": [],
   "source": [
    "lasso_1 = results.loc[36].model\n",
    "lasso_2 = results.loc[37].model\n",
    "lasso_3 = results.loc[38].model"
   ]
  },
  {
   "cell_type": "code",
   "execution_count": 27,
   "metadata": {
    "scrolled": true
   },
   "outputs": [
    {
     "data": {
      "text/plain": [
       "<matplotlib.text.Text at 0x7f7b655c1160>"
      ]
     },
     "execution_count": 27,
     "metadata": {},
     "output_type": "execute_result"
    },
    {
     "data": {
      "image/png": "[encoded data removed]",
      "text/plain": [
       "<matplotlib.figure.Figure at 0x7f7b6561ce10>"
      ]
     },
     "metadata": {},
     "output_type": "display_data"
    }
   ],
   "source": [
    "plt.plot(lasso_1.coef_, 's', label=\"Lasso alpha={}\".format(results.loc[36].alpha))\n",
    "plt.plot(lasso_2.coef_, '^', label=\"Lasso alpha={}\".format(results.loc[36].alpha))\n",
    "plt.plot(lasso_3.coef_, 'v', label=\"Lasso alpha={}\".format(results.loc[36].alpha))\n",
    "\n",
    "plt.legend(ncol=2, loc=(0, 1.05))\n",
    "plt.ylim(-25, 25)\n",
    "plt.xlabel(\"Coefficient index\")\n",
    "plt.ylabel(\"Coefficient magnitude\")"
   ]
  },
  {
   "cell_type": "code",
   "execution_count": null,
   "metadata": {
    "collapsed": true
   },
   "outputs": [],
   "source": [
    "best_results = results[results.test_score > 0.9]\n",
    "best_results"
   ]
  },
  {
   "cell_type": "code",
   "execution_count": null,
   "metadata": {
    "collapsed": true
   },
   "outputs": [],
   "source": [
    "coefs = np.array([model.coef_ for model in best_results.model.values])\n",
    "np.array(coefs).shape"
   ]
  },
  {
   "cell_type": "code",
   "execution_count": null,
   "metadata": {
    "collapsed": true
   },
   "outputs": [],
   "source": [
    "coefs = pd.DataFrame(coefs)\n",
    "coefs.index = ['Lasso({:0.2f})'.format(alpha) for alpha in best_results.alpha.values]\n",
    "coefs.columns = X.columns"
   ]
  },
  {
   "cell_type": "code",
   "execution_count": null,
   "metadata": {
    "collapsed": true
   },
   "outputs": [],
   "source": [
    "coefs.describe()"
   ]
  },
  {
   "cell_type": "code",
   "execution_count": null,
   "metadata": {
    "collapsed": true
   },
   "outputs": [],
   "source": [
    "zeros = coefs.T[(coefs.max() == 0) & (coefs.min() == 0)]\n",
    "zeros.index.values"
   ]
  },
  {
   "cell_type": "code",
   "execution_count": null,
   "metadata": {
    "collapsed": true
   },
   "outputs": [],
   "source": [
    "X_red = X.copy()\n",
    "for col in zeros.index.values:\n",
    "    X_red.drop(col, axis=1, inplace=True)\n",
    "X_red.shape    \n"
   ]
  },
  {
   "cell_type": "code",
   "execution_count": null,
   "metadata": {
    "collapsed": true
   },
   "outputs": [],
   "source": []
  }
 ],
 "metadata": {
  "kernelspec": {
   "display_name": "Python 3",
   "language": "python",
   "name": "python3"
  },
  "language_info": {
   "codemirror_mode": {
    "name": "ipython",
    "version": 3
   },
   "file_extension": ".py",
   "mimetype": "text/x-python",
   "name": "python",
   "nbconvert_exporter": "python",
   "pygments_lexer": "ipython3",
   "version": "3.6.2"
  }
 },
 "nbformat": 4,
 "nbformat_minor": 2
}
